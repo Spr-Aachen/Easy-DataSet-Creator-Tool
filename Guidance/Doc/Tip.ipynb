{
 "cells": [
  {
   "cell_type": "markdown",
   "id": "a59772a4-7398-4b67-9599-65b9f8a17e11",
   "metadata": {},
   "source": [
    "# 注意事项"
   ]
  },
  {
   "cell_type": "markdown",
   "id": "b403566c-fabe-4b47-a7ed-7c8cce5c551c",
   "metadata": {},
   "source": [
    "## 删除无关图片"
   ]
  },
  {
   "cell_type": "markdown",
   "id": "1abbad10-237e-4512-995d-c3261ad65b7f",
   "metadata": {},
   "source": [
    "## 类别均衡"
   ]
  },
  {
   "cell_type": "markdown",
   "id": "f038fbd1-7592-445c-bed1-80ae9932c092",
   "metadata": {},
   "source": [
    "\n",
    "1. 为了让数据集训练出的模型具备良好的泛化性能（防止过拟合），应考虑以下类别：\n",
    "\n",
    "   - 尺寸\n",
    "\n",
    "   - 比例\n",
    "\n",
    "   - 环境（光线、角度、远近）\n",
    "\n",
    "   - 形态（完整、切块、包浆）\n",
    "\n",
    "   - 部位（全体、表层、内部）\n",
    "\n",
    "   - 时期（胚胎、发育、成熟）\n",
    "\n",
    "   - 背景（人物、地形、抠图）\n",
    "\n",
    "   - 图像域（照片、漫画、油画）"
   ]
  },
  {
   "cell_type": "markdown",
   "id": "46241ace",
   "metadata": {},
   "source": [
    "2. 若训练集的图像分布与测试集（或真实测试场景）的图像分布不一致，会出现OOD (Out-Of-Distribution) 问题。"
   ]
  }
 ],
 "metadata": {
  "kernelspec": {
   "display_name": "Python 3.7.0 ('base')",
   "language": "python",
   "name": "python3"
  },
  "language_info": {
   "codemirror_mode": {
    "name": "ipython",
    "version": 3
   },
   "file_extension": ".py",
   "mimetype": "text/x-python",
   "name": "python",
   "nbconvert_exporter": "python",
   "pygments_lexer": "ipython3",
   "version": "3.7.0"
  },
  "vscode": {
   "interpreter": {
    "hash": "3af1b6f78fba78245cf63ab96d33e9b07e8f9db7221177dfc11d053b30bdd569"
   }
  }
 },
 "nbformat": 4,
 "nbformat_minor": 5
}
