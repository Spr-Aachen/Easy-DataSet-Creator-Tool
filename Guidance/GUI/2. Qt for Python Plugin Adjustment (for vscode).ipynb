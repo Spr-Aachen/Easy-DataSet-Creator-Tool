{
 "cells": [
  {
   "cell_type": "markdown",
   "metadata": {},
   "source": [
    "点击扩展中设置图标，选择扩展设置进入设置"
   ]
  },
  {
   "cell_type": "markdown",
   "metadata": {},
   "source": [
    "- 在'Designer：Path'项下填写designer的路径，例如我安装在~\\Anaconda3\\Lib\\site-packages\\PySide6路径下，填写为:\n",
    ">D:\\Projekt\\AI\\Anaconda3\\Lib\\site-packages\\PySide6\\designer.exe"
   ]
  },
  {
   "cell_type": "markdown",
   "metadata": {},
   "source": [
    "- 在'Qmllint：Enabled'项下勾选，启动能检查语法和自动补全空缺字符串的功能"
   ]
  },
  {
   "cell_type": "markdown",
   "metadata": {},
   "source": [
    "- 在'Designer：Qmllint'项下填写qmllint的路径，例如我安装在~\\Anaconda3\\Lib\\site-packages\\PySide6路径下，填写为:\n",
    ">D:\\Projekt\\AI\\Anaconda3\\Lib\\site-packages\\PySide6\\qmllint.exe"
   ]
  },
  {
   "cell_type": "markdown",
   "metadata": {},
   "source": [
    "- 在'Rcc：Options'项下填写以下项（默认即是以下内容，在当前路径输出qrc文件转换py文件的输出，含义可以自己去扩展介绍里了解一下）:\n",
    ">-o\n",
    "<br/>${resourceDirname}${pathSeparator}${resourceBasenameNoExtension}_rc.py"
   ]
  },
  {
   "cell_type": "markdown",
   "metadata": {},
   "source": [
    "- 在'Rcc：Path'项下填写rcc的路径，例如我安装在~\\Anaconda3\\Lib\\site-packages\\PySide6路径下，填写为:\n",
    ">D:\\Projekt\\AI\\Anaconda3\\Lib\\site-packages\\PySide6\\rcc.exe"
   ]
  },
  {
   "cell_type": "markdown",
   "metadata": {},
   "source": [
    "- 在'Uic：Live Execution'项下勾选，启动能在线ui转py的功能，每次ui文件更改保存后，会自动运行一次"
   ]
  },
  {
   "cell_type": "markdown",
   "metadata": {},
   "source": [
    "- 在'Uic：Options'项下填写以下项（默认即是以下内容，在当前路径输出ui文件转换py文件的输出，含义可以自己去扩展介绍里了解一下）:\n",
    ">-o\n",
    "<br/>${resourceDirname}${pathSeparator}ui_${resourceBasenameNoExtension}.py"
   ]
  },
  {
   "cell_type": "markdown",
   "metadata": {},
   "source": [
    "- 在'Uic：Path'项下填写uic的路径，例如我安装在~\\Anaconda3\\Lib\\site-packages\\PySide6路径下，填写为:\n",
    ">D:\\Projekt\\AI\\Anaconda3\\Lib\\site-packages\\PySide6\\uic.exe"
   ]
  }
 ],
 "metadata": {
  "kernelspec": {
   "display_name": "Python 3.7.0 ('base')",
   "language": "python",
   "name": "python3"
  },
  "language_info": {
   "name": "python",
   "version": "3.7.0"
  },
  "orig_nbformat": 4,
  "vscode": {
   "interpreter": {
    "hash": "3af1b6f78fba78245cf63ab96d33e9b07e8f9db7221177dfc11d053b30bdd569"
   }
  }
 },
 "nbformat": 4,
 "nbformat_minor": 2
}
