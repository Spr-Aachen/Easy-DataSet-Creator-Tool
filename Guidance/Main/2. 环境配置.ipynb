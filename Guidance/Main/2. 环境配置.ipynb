{
 "cells": [
  {
   "cell_type": "markdown",
   "id": "68aa2c39-1a4b-4d3c-ab35-3d44896f2f67",
   "metadata": {},
   "source": [
    "# 环境配置"
   ]
  },
  {
   "cell_type": "markdown",
   "id": "d56b4a5f-8ec2-4493-8344-580ed67d3d25",
   "metadata": {},
   "source": [
    "## 非Conda环境"
   ]
  },
  {
   "cell_type": "code",
   "execution_count": null,
   "id": "9b7bed8b",
   "metadata": {},
   "outputs": [],
   "source": [
    "# 升级 pip 并更改超时处理机制（将默认的超时的时间由15秒改为900秒）\n",
    "!python -m pip --default-timeout=900 install --upgrade pip"
   ]
  },
  {
   "cell_type": "code",
   "execution_count": null,
   "id": "26bc6d43",
   "metadata": {},
   "outputs": [],
   "source": [
    "# 若上面命令运行的结果出现了\"requires XXX which is not installed\"，说明需要安装该依赖包\n",
    "#!pip install XXX"
   ]
  },
  {
   "cell_type": "code",
   "execution_count": null,
   "id": "83c98888-79c0-4f4c-8e64-b9cc65ac797e",
   "metadata": {},
   "outputs": [],
   "source": [
    "'''\n",
    "Ipython kernel的感叹号与井号用法：\n",
    "! 开一个新progress，执行完后立即终止 ；provided by the IPython kernel\n",
    "% 开一个新progress，执行完后操作持续 ；provided by the IPython kernel\n",
    "'''\n",
    "# 安装所有需要的包并借助国内镜像\n",
    "!pip install numpy pandas matplotlib requests tqdm opencv-python -i https://pypi.mirrors.ustc.edu.cn/simple"
   ]
  },
  {
   "cell_type": "markdown",
   "id": "6f46d12b",
   "metadata": {},
   "source": [
    "## Conda环境"
   ]
  },
  {
   "cell_type": "markdown",
   "id": "67bac76f",
   "metadata": {},
   "source": [
    "### 换源并更新（可选）"
   ]
  },
  {
   "cell_type": "code",
   "execution_count": null,
   "id": "3d163bf4",
   "metadata": {},
   "outputs": [],
   "source": [
    "# 找到.condac文件并查看里面的镜像源\n",
    "!conda config --show-sources"
   ]
  },
  {
   "cell_type": "code",
   "execution_count": null,
   "id": "db0af4bf",
   "metadata": {},
   "outputs": [],
   "source": [
    "# 恢复Anaconda的源为默认\n",
    "#!conda config --remove-key channels"
   ]
  },
  {
   "cell_type": "code",
   "execution_count": null,
   "id": "a06b130f",
   "metadata": {},
   "outputs": [],
   "source": [
    "# 移除Anaconda的默认源\n",
    "!conda config --remove channels defaults"
   ]
  },
  {
   "cell_type": "code",
   "execution_count": null,
   "id": "f8632197",
   "metadata": {},
   "outputs": [],
   "source": [
    "# 添加Anaconda的源（http后面不能有s且清华源尾部要加上系统信息）\n",
    "!conda config --append channels http://mirrors.tuna.tsinghua.edu.cn/anaconda/pkgs/free/win-64\n",
    "\n",
    "# 告诉conda在搜索软件包时也要在conda-forge channel上查看\n",
    "!conda config --append channels conda-forge"
   ]
  },
  {
   "cell_type": "code",
   "execution_count": null,
   "id": "66538899",
   "metadata": {},
   "outputs": [],
   "source": [
    "# 更改用户目录下的condarc文件以配置镜像和验证机制\n",
    "#import os\n",
    "#os.system('Get-ChildItem -Path C:\\Users -Recurse -Filter \".condarc\" | ')"
   ]
  },
  {
   "cell_type": "code",
   "execution_count": 13,
   "id": "57471c93",
   "metadata": {},
   "outputs": [],
   "source": [
    "# 更新conda\n",
    "!conda upgrade -n base conda"
   ]
  },
  {
   "cell_type": "markdown",
   "id": "441d39c3",
   "metadata": {},
   "source": [
    "- ### Anaconda用户"
   ]
  },
  {
   "cell_type": "code",
   "execution_count": null,
   "id": "f82e0fa2",
   "metadata": {},
   "outputs": [],
   "source": [
    "!conda install -c conda-forge opencv-python"
   ]
  },
  {
   "cell_type": "markdown",
   "id": "9ee31a52",
   "metadata": {},
   "source": [
    "- ### Miniconda用户"
   ]
  },
  {
   "cell_type": "code",
   "execution_count": null,
   "id": "6b20c0b5",
   "metadata": {},
   "outputs": [],
   "source": [
    "!conda install -c conda-forge numpy pandas matplotlib requests tqdm opencv-python"
   ]
  }
 ],
 "metadata": {
  "kernelspec": {
   "display_name": "Python 3.7.0 ('base')",
   "language": "python",
   "name": "python3"
  },
  "language_info": {
   "codemirror_mode": {
    "name": "ipython",
    "version": 3
   },
   "file_extension": ".py",
   "mimetype": "text/x-python",
   "name": "python",
   "nbconvert_exporter": "python",
   "pygments_lexer": "ipython3",
   "version": "3.7.0"
  },
  "vscode": {
   "interpreter": {
    "hash": "3af1b6f78fba78245cf63ab96d33e9b07e8f9db7221177dfc11d053b30bdd569"
   }
  }
 },
 "nbformat": 4,
 "nbformat_minor": 5
}
