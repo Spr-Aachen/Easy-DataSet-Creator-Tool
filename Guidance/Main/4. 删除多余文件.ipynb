{
 "cells": [
  {
   "cell_type": "markdown",
   "id": "a59772a4-7398-4b67-9599-65b9f8a17e11",
   "metadata": {},
   "source": [
    "# 删除多余文件"
   ]
  },
  {
   "cell_type": "markdown",
   "id": "185dec06-1393-4d41-b1a2-25080381e7bf",
   "metadata": {},
   "source": [
    "## 1. 导入工具包"
   ]
  },
  {
   "cell_type": "code",
   "execution_count": null,
   "id": "60e25bcc-d14e-4393-89d3-0c01d228e02d",
   "metadata": {},
   "outputs": [],
   "source": [
    "# 导入操作系统库以获取平台信息以及对目录操作的权限\n",
    "import os\n",
    "\n",
    "# 导入OpenCV2库以支持图像处理操作\n",
    "import cv2\n",
    "\n",
    "# 导入图像处理库的图像模块以支持图像处理操作\n",
    "from PIL import Image\n",
    "\n",
    "# 导入计算扩展库以支持数组运算\n",
    "import numpy\n",
    "\n",
    "# 导入进度条库的模块以令进程可视化\n",
    "from tqdm import tqdm"
   ]
  },
  {
   "cell_type": "markdown",
   "id": "58043e9d-25f4-419c-8d0e-27d2e0aa723f",
   "metadata": {},
   "source": [
    "## 2. 删除系统自动生成的多余文件"
   ]
  },
  {
   "cell_type": "markdown",
   "id": "59f1d609-3983-45e5-beeb-b96f1c438295",
   "metadata": {},
   "source": [
    "- ### Linux系统"
   ]
  },
  {
   "cell_type": "code",
   "execution_count": null,
   "id": "a8356247-4b89-42e9-aa87-4c630f05e1f8",
   "metadata": {},
   "outputs": [],
   "source": [
    "'''\n",
    "查找格式：find /（查找范围） -name '查找关键字' -type d\n",
    "find后的 . 代表当前目录\n",
    "使用 -inname 能够忽略字符大小\n",
    "'''\n",
    "\n",
    "# Find命令递归查找当前目录是否有用于Mac系统用户预览的缓存文件夹（文件类似于Windows系统的Thumbs.db）\n",
    "!find . -iname '__MACOSX'\n",
    "#删除\n",
    "!for i in `find . -iname '__MACOSX'`; do rm -rf $i; done\n",
    "# 检查是否已删除\n",
    "!find . -iname '__MACOSX'\n",
    "\n",
    "\n",
    "# Find命令递归查找当前目录是否有用于Mac系统桌面服务存储的文件\n",
    "!find . -iname '.DS_Store'\n",
    "#删除\n",
    "!for i in `find . -iname '.DS_Store'`; do rm -rf $i; done\n",
    "# 检查是否已删除\n",
    "!find . -iname '.DS_Store'\n",
    "\n",
    "\n",
    "# Find命令递归查找当前目录是否有用于jupyter进行定点恢复的文件\n",
    "!find . -iname '.ipynb_checkpoints'\n",
    "#删除\n",
    "!for i in `find . -iname '.ipynb_checkpoints'`; do rm -rf $i; done\n",
    "# 检查是否已删除\n",
    "!find . -iname '.ipynb_checkpoints'"
   ]
  },
  {
   "cell_type": "markdown",
   "id": "c4400a34",
   "metadata": {},
   "source": [
    "- ### Windows系统"
   ]
  },
  {
   "cell_type": "code",
   "execution_count": null,
   "id": "0b0e50b0",
   "metadata": {},
   "outputs": [],
   "source": [
    "'''\n",
    "查找格式：Get-ChildItem -Path '查找范围' \"查找关键字\"\n",
    "-Path后的 . 代表当前目录\n",
    "使用-Recurse参数以获取指定位置中的项目以及该位置的所有子项目。\n",
    "使用-Filter参数以指定用于限定-Path参数的过滤器。\n",
    "管道符 | 会把前一个命令的对象传递给第二个命令所对应支持ByValue的参数，然后执行\n",
    "'''\n",
    "\n",
    "# Get-ChildItem命令递归查找当前目录是否有用于Mac系统用户预览的缓存文件夹（文件类似于Windows系统的Thumbs.db）并递归强制删除\n",
    "os.system('Get-ChildItem -Path . -Recurse -Filter \"__MACOSX\" | Remove-Item -Force')\n",
    "# 检查是否已删除\n",
    "os.system('Test-Path -Path . -Filter \"__MACOSX\"')\n",
    "\n",
    "\n",
    "# Get-ChildItem命令递归查找当前目录是否有用于Mac系统桌面服务存储的文件\n",
    "os.system('Get-ChildItem -Path . -Recurse -Filter \".DS_Store\" | Remove-Item -Force')\n",
    "# 检查是否已删除\n",
    "os.system('Test-Path -Path . -Filter \".DS_Store\"')\n",
    "\n",
    "\n",
    "# Get-ChildItem命令递归查找当前目录是否有用于jupyter进行定点恢复的文件\n",
    "os.system('Get-ChildItem -Path . -Recurse -Filter \".ipynb_checkpoints\" | Remove-Item -Force')\n",
    "# 检查是否已删除\n",
    "os.system('Test-Path -Path . -Filter \".ipynb_checkpoints\"')"
   ]
  },
  {
   "cell_type": "markdown",
   "id": "07fdb635",
   "metadata": {},
   "source": [
    "- ### 其它"
   ]
  },
  {
   "cell_type": "code",
   "execution_count": null,
   "id": "484c93f3",
   "metadata": {},
   "outputs": [],
   "source": [
    "# Python命令查找指定目录下是否有带目标后缀的文件\n",
    "'%目标后缀%' in os.listdir('%指定目录%')"
   ]
  },
  {
   "cell_type": "markdown",
   "id": "c8eaf8f0-b6ab-4e49-baf7-84124c6a472a",
   "metadata": {
    "tags": []
   },
   "source": [
    "## 3. 删除gif格式的文件与非三通道的文件"
   ]
  },
  {
   "cell_type": "markdown",
   "id": "fe7e600f",
   "metadata": {},
   "source": [
    "- ### Unix / Windows 系统"
   ]
  },
  {
   "cell_type": "code",
   "execution_count": null,
   "id": "b7d6bba1-5ab0-482c-a0f9-4856a6bd7b41",
   "metadata": {},
   "outputs": [],
   "source": [
    "'''\n",
    "img = cv2.imread(path) ：这是opencv中的处理图片的函数，使用时需 import cv2\n",
    "img = Image.open(path) ：这是PIL中的一个处理图片的函数，使用时需 from PIL import Image （或者 Import PIL 之后 img = PIL.Image.open(path)）\n",
    "同时需注意：\n",
    "当图像格式为RGBA时，Image.open()读取的格式为RGBA（其中A表示图像的alpha通道，即RGBA共四个通道）；而cv2.imread()读取的格式是BGR，只有三个通道。故使用PIL进行处理非三通道检测处理。\n",
    "'''\n",
    "\n",
    "# 指定工作目录\n",
    "work_dir = 'DataSet'\n",
    "#work_dir = os.getcwd() # 指定根目录为工作目录\n",
    "\n",
    "for subfolder in tqdm(os.listdir(work_dir)): # 遍历工作目录下包含的子文件夹并让进度可视化\n",
    "    for file in os.listdir(os.path.join(work_dir, subfolder)): # 合并工作目录、子文件夹得到子文件夹路径以遍历路径下包含的文件\n",
    "        file_path = os.path.join(work_dir, subfolder, file) # 合并工作目录、子文件夹、文件名得到文件路径\n",
    "\n",
    "        # 先判断是否为gif文件\n",
    "        image = cv2.imread(file_path, cv2.IMREAD_COLOR) # 以默认参数（彩色图片，忽略alpha通道）读入路径对应的图片\n",
    "        if image is None: # 非gif图像文件通常返回为np.array类型，其余返回None\n",
    "            print(file_path, '判定为gif文件，执行删除')\n",
    "            os.remove(file_path)\n",
    "        else:\n",
    "            # 再对非gif文件判断是否为非三通道文件\n",
    "            image = numpy.array(Image.open(file_path)) # 由于要使用img.shape函数，故打开图片后需将image形式转换成array数组\n",
    "            try: # 尝试获取图像通道信息并判定通道数是否为三\n",
    "                channel = image.shape[2] # [0]返回水平像素数；[1]返回垂直像素数；[2]返回通道数\n",
    "                if channel != 3:\n",
    "                    print(file_path, '判定为非三通道文件，执行删除')\n",
    "                    os.remove(file_path)\n",
    "            except:\n",
    "                print(file_path, '不明文件，执行删除')\n",
    "                os.remove(file_path)"
   ]
  },
  {
   "cell_type": "markdown",
   "id": "4f9afab9-4f90-47c1-8f5c-3fbc3a2f9995",
   "metadata": {},
   "source": [
    "## 4. 再次删除多余的`.ipynb_checkpoints`目录"
   ]
  },
  {
   "cell_type": "markdown",
   "id": "31b0b269",
   "metadata": {},
   "source": [
    "- ### Linux系统"
   ]
  },
  {
   "cell_type": "code",
   "execution_count": null,
   "id": "b6720c92-39f7-4ab2-915d-4d73def40a56",
   "metadata": {},
   "outputs": [],
   "source": [
    "# Find命令递归查找当前目录是否有用于jupyter进行定点恢复的文件\n",
    "!find . -iname '.ipynb_checkpoints'\n",
    "#删除\n",
    "!for i in `find . -iname '.ipynb_checkpoints'`; do rm -rf $i; done\n",
    "# 验证是否已删除\n",
    "!find . -iname '.ipynb_checkpoints'"
   ]
  },
  {
   "cell_type": "markdown",
   "id": "c4400a34",
   "metadata": {},
   "source": [
    "- ### Windows系统"
   ]
  },
  {
   "cell_type": "code",
   "execution_count": null,
   "id": "a7e3294f",
   "metadata": {},
   "outputs": [],
   "source": [
    "# Get-ChildItem命令递归查找当前目录是否有用于jupyter进行定点恢复的文件\n",
    "os.system('Get-ChildItem -Path . -Recurse -Filter \".ipynb_checkpoints\" | Remove-Item -Force')\n",
    "# 检查是否已删除\n",
    "os.system('Test-Path -Path . -Filter \".ipynb_checkpoints\"')"
   ]
  }
 ],
 "metadata": {
  "kernelspec": {
   "display_name": "Python 3.7.0 ('base')",
   "language": "python",
   "name": "python3"
  },
  "language_info": {
   "codemirror_mode": {
    "name": "ipython",
    "version": 3
   },
   "file_extension": ".py",
   "mimetype": "text/x-python",
   "name": "python",
   "nbconvert_exporter": "python",
   "pygments_lexer": "ipython3",
   "version": "3.7.0"
  },
  "vscode": {
   "interpreter": {
    "hash": "3af1b6f78fba78245cf63ab96d33e9b07e8f9db7221177dfc11d053b30bdd569"
   }
  }
 },
 "nbformat": 4,
 "nbformat_minor": 5
}
