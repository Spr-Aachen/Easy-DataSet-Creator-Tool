{
 "cells": [
  {
   "cell_type": "markdown",
   "metadata": {},
   "source": [
    "## 系统信息"
   ]
  },
  {
   "cell_type": "code",
   "execution_count": null,
   "metadata": {},
   "outputs": [],
   "source": [
    "import os\n",
    "import sys\n",
    "import platform\n",
    "\n",
    "def Get_Host_OS():\n",
    "    Host_OS = platform.system()\n",
    "    Architecture = platform.architecture()\n",
    "    # 获取位数\n",
    "    if '64bit' in Architecture:\n",
    "        bit = '64'\n",
    "    else:\n",
    "        bit = '32'\n",
    "    #获取系统\n",
    "    if Host_OS in {'Windows', 'Linux', 'Darwin'}:      \n",
    "        Host_OS += bit\n",
    "    else:\n",
    "        Host_OS = None\n",
    "    #不直接打印，返回值以方便其它函数调用\n",
    "    return Host_OS\n",
    "\n",
    "def Print_Host_OS():\n",
    "    OS = Get_Host_OS()\n",
    "    print(f'Cureent OS: {OS}')\n",
    "\n",
    "'''\n",
    "Explanation about the \"if __name__ == '__main__':\" statement:\n",
    "当.py文件被直接运行时，该语句之下的代码块将被运行；而当.py文件以模块形式被导入时，该语句之下的代码块不被运行。\n",
    "'''\n",
    "if __name__ == '__main__':\n",
    "    Print_Host_OS()"
   ]
  }
 ],
 "metadata": {
  "kernelspec": {
   "display_name": "Python 3.7.0 ('base')",
   "language": "python",
   "name": "python3"
  },
  "language_info": {
   "codemirror_mode": {
    "name": "ipython",
    "version": 3
   },
   "file_extension": ".py",
   "mimetype": "text/x-python",
   "name": "python",
   "nbconvert_exporter": "python",
   "pygments_lexer": "ipython3",
   "version": "3.7.0"
  },
  "orig_nbformat": 4,
  "vscode": {
   "interpreter": {
    "hash": "3af1b6f78fba78245cf63ab96d33e9b07e8f9db7221177dfc11d053b30bdd569"
   }
  }
 },
 "nbformat": 4,
 "nbformat_minor": 2
}
